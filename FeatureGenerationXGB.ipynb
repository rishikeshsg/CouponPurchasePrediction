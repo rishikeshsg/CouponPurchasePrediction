{
 "cells": [
  {
   "cell_type": "code",
   "execution_count": 1,
   "metadata": {
    "collapsed": false
   },
   "outputs": [],
   "source": [
    "import pandas as pd\n",
    "import numpy as np\n",
    "import xgboost\n",
    "import datetime\n",
    "from sklearn_pandas import DataFrameMapper\n",
    "from sklearn.preprocessing import LabelBinarizer\n",
    "from sklearn.preprocessing import StandardScaler"
   ]
  },
  {
   "cell_type": "code",
   "execution_count": 2,
   "metadata": {
    "collapsed": true
   },
   "outputs": [],
   "source": [
    "coupons_train=pd.read_csv(\"Translated_Data/coupon_list_train.csv\", parse_dates=[\"DISPFROM\",\"DISPEND\"])\n",
    "coupons_test = pd.read_csv(\"Translated_Data/coupon_list_test.csv\")"
   ]
  },
  {
   "cell_type": "code",
   "execution_count": 3,
   "metadata": {
    "collapsed": false
   },
   "outputs": [
    {
     "name": "stderr",
     "output_type": "stream",
     "text": [
      "/home/rishikesh/anaconda2/lib/python2.7/site-packages/ipykernel/__main__.py:2: FutureWarning: sort(columns=....) is deprecated, use sort_values(by=.....)\n",
      "  from ipykernel import kernelapp as app\n"
     ]
    }
   ],
   "source": [
    "coupons_train[\"DISPFROM\"].fillna(pd.Timestamp(\"19000101\"), inplace=True)\n",
    "coupons_train = coupons_train.sort(columns=[\"DISPFROM\"]).reset_index(drop=True)"
   ]
  },
  {
   "cell_type": "code",
   "execution_count": null,
   "metadata": {
    "collapsed": false
   },
   "outputs": [],
   "source": [
    "coupons_visit = pd.read_csv(\"Translated_Data/coupon_visit_train.csv\", parse_dates=[\"I_DATE\"])\n",
    "coupons_visit = coupons_visit.sort(columns=[\"I_DATE\"]).reset_index(drop=True)"
   ]
  },
  {
   "cell_type": "code",
   "execution_count": null,
   "metadata": {
    "collapsed": false
   },
   "outputs": [],
   "source": [
    "coupons_visit = coupons_visit.rename(columns={'VIEW_COUPON_ID_hash': 'COUPON_ID_hash'})"
   ]
  },
  {
   "cell_type": "code",
   "execution_count": 4,
   "metadata": {
    "collapsed": true
   },
   "outputs": [],
   "source": [
    "def gen_validation(coupons_train,time_delta):\n",
    "    max_date = coupons_train[\"DISPFROM\"].max()\n",
    "    valid_start = max_date - time_delta\n",
    "    coupons_valid = coupons_train[(coupons_train[\"DISPFROM\"] > valid_start)]\n",
    "    coupons_train = coupons_train[~ (coupons_train[\"DISPFROM\"] > valid_start)]\n",
    "    return coupons_train,coupons_valid"
   ]
  },
  {
   "cell_type": "code",
   "execution_count": 5,
   "metadata": {
    "collapsed": false
   },
   "outputs": [],
   "source": [
    "coupons_train,coupons_valid=gen_validation(coupons_train,datetime.timedelta(days=7))"
   ]
  },
  {
   "cell_type": "code",
   "execution_count": 6,
   "metadata": {
    "collapsed": true
   },
   "outputs": [],
   "source": [
    "def remove_outliers(coupons_train,coupons_valid):\n",
    "    if len(coupons_valid)>0:\n",
    "        very_long_time_display=coupons_valid[coupons_valid.DISPPERIOD > 20].COUPON_ID_hash\n",
    "        very_low_price = coupons_valid[coupons_valid.DISCOUNT_PRICE <= 100].COUPON_ID_hash\n",
    "        coupons_valid = coupons_valid[~coupons_valid.COUPON_ID_hash.isin(very_long_time_display)]\n",
    "        coupons_valid = coupons_valid[~coupons_valid.COUPON_ID_hash.isin(very_low_price)].reset_index(drop=True)\n",
    "        \n",
    "    very_long_time_display = coupons_train[coupons_train.DISPPERIOD > 20].COUPON_ID_hash\n",
    "    coupons_train = coupons_train[~coupons_train.COUPON_ID_hash.isin(very_long_time_display)].reset_index(drop=True)\n",
    "    \n",
    "    return coupons_train,coupons_valid"
   ]
  },
  {
   "cell_type": "code",
   "execution_count": 7,
   "metadata": {
    "collapsed": false
   },
   "outputs": [],
   "source": [
    "coupons_train,coupons_valid=remove_outliers(coupons_train,coupons_valid)"
   ]
  },
  {
   "cell_type": "code",
   "execution_count": 8,
   "metadata": {
    "collapsed": true
   },
   "outputs": [],
   "source": [
    " def preprocess(df):\n",
    "        df[\"REDUCE_PRICE\"] = df[\"CATALOG_PRICE\"] - df[\"DISCOUNT_PRICE\"]\n",
    "        for key in [\"DISCOUNT_PRICE\", \"CATALOG_PRICE\", \"REDUCE_PRICE\"]:\n",
    "            df[key + \"_LOG\"] = np.log(df[key] + 1.0).astype(np.float32)\n",
    "\n",
    "        df[\"VALIDPERIOD_NA\"] = np.array(pd.isnull(df[\"VALIDPERIOD\"]), dtype=np.int32)\n",
    "        df[\"DISPPERIOD_C\"] = np.array(df[\"DISPPERIOD\"].clip(0, 8), dtype=np.int32)\n",
    "        df[\"PRICE_RATE\"] = np.array(df.PRICE_RATE, dtype=np.float32)\n",
    "        df[\"large_area_name\"].fillna(\"NA\", inplace=True)\n",
    "        df[\"ken_name\"].fillna(\"NA\", inplace=True)\n",
    "        df[\"small_area_name\"].fillna(\"NA\", inplace=True)\n",
    "        df[\"LARGE_AREA_NAME\"] = df[\"large_area_name\"]\n",
    "        df[\"PREF_NAME\"] = df[\"large_area_name\"] + \":\" + df[\"ken_name\"]\n",
    "        df[\"SMALL_AREA_NAME\"] = df[\"large_area_name\"] + \":\" + df[\"ken_name\"] + \":\" + df[\"small_area_name\"]\n",
    "        df[\"CATEGORY_NAME\"] = df[\"CAPSULE_TEXT\"] + df[\"GENRE_NAME\"]\n",
    "\n",
    "        usable_dates = ['USABLE_DATE_MON',\n",
    "                        'USABLE_DATE_TUE',\n",
    "                        'USABLE_DATE_WED',\n",
    "                        'USABLE_DATE_THU',\n",
    "                        'USABLE_DATE_FRI',\n",
    "                        'USABLE_DATE_SAT',\n",
    "                        'USABLE_DATE_SUN',\n",
    "                        'USABLE_DATE_HOLIDAY',\n",
    "                        'USABLE_DATE_BEFORE_HOLIDAY']        \n",
    "        for key in usable_dates:\n",
    "            df[key].fillna(0, inplace=True)\n",
    "        df[\"USABLE_DATE_SUM\"] = 0\n",
    "        for key in usable_dates:\n",
    "            df[\"USABLE_DATE_SUM\"] += df[key]\n",
    "\n",
    "        cols = df.columns.tolist()\n",
    "        cols.remove(\"DISPFROM\")\n",
    "        cols.remove(\"DISPEND\")\n",
    "        for key in cols:\n",
    "            df[key].fillna(\"NA\", inplace=True)\n",
    "        return df"
   ]
  },
  {
   "cell_type": "code",
   "execution_count": 9,
   "metadata": {
    "collapsed": false
   },
   "outputs": [],
   "source": [
    "coupons_train=preprocess(coupons_train)\n",
    "coupons_valid=preprocess(coupons_valid)\n",
    "coupons_test=preprocess(coupons_test)"
   ]
  },
  {
   "cell_type": "code",
   "execution_count": 10,
   "metadata": {
    "collapsed": true
   },
   "outputs": [],
   "source": [
    " coupon_mapper = DataFrameMapper([\n",
    "                ('CATEGORY_NAME', LabelBinarizer()),\n",
    "                ('PRICE_RATE', None),\n",
    "                ('CATALOG_PRICE_LOG', None),\n",
    "                ('DISCOUNT_PRICE_LOG', None),\n",
    "                ('REDUCE_PRICE_LOG', None),\n",
    "                ('DISPPERIOD_C', LabelBinarizer()),\n",
    "                ('VALIDPERIOD_NA', LabelBinarizer()),\n",
    "                ('USABLE_DATE_SUM', None),\n",
    "                ('LARGE_AREA_NAME', LabelBinarizer()),\n",
    "                ('PREF_NAME', LabelBinarizer()),\n",
    "                ('SMALL_AREA_NAME', LabelBinarizer()),\n",
    "                ])"
   ]
  },
  {
   "cell_type": "code",
   "execution_count": 12,
   "metadata": {
    "collapsed": false
   },
   "outputs": [],
   "source": [
    "coupon_mapper.fit(pd.concat([coupons_train, coupons_valid, coupons_test]))\n",
    "train_coupon_vec = coupon_mapper.transform(coupons_train.copy())\n",
    "valid_coupon_vec = coupon_mapper.transform(coupons_valid.copy())\n",
    "test_coupon_vec = coupon_mapper.transform(coupons_test.copy())"
   ]
  },
  {
   "cell_type": "code",
   "execution_count": 13,
   "metadata": {
    "collapsed": false,
    "scrolled": true
   },
   "outputs": [
    {
     "name": "stderr",
     "output_type": "stream",
     "text": [
      "/home/rishikesh/anaconda2/lib/python2.7/site-packages/ipykernel/__main__.py:3: FutureWarning: sort(columns=....) is deprecated, use sort_values(by=.....)\n",
      "  app.launch_new_instance()\n"
     ]
    }
   ],
   "source": [
    "user_frame = pd.read_csv(\"Translated_Data/user_list.csv\")\n",
    "details_frame = pd.read_csv(\"Translated_Data/coupon_detail_train.csv\",parse_dates=[\"I_DATE\"])\n",
    "details_frame = details_frame.sort(columns=[\"I_DATE\"]).reset_index(drop=True)"
   ]
  },
  {
   "cell_type": "code",
   "execution_count": 14,
   "metadata": {
    "collapsed": true
   },
   "outputs": [],
   "source": [
    "user_mapper = DataFrameMapper([\n",
    "                ('SEX_ID', LabelBinarizer()),\n",
    "                ('PREF_NAME', LabelBinarizer()),\n",
    "                ('AGE', None),\n",
    "                ])"
   ]
  },
  {
   "cell_type": "code",
   "execution_count": 15,
   "metadata": {
    "collapsed": false
   },
   "outputs": [],
   "source": [
    "user_frame[\"PREF_NAME\"].fillna(\"NA\", inplace=True)\n",
    "user_vec = user_mapper.fit_transform(user_frame.copy())"
   ]
  },
  {
   "cell_type": "code",
   "execution_count": null,
   "metadata": {
    "collapsed": false,
    "scrolled": true
   },
   "outputs": [],
   "source": [
    "users = []\n",
    "coupons_train[\"ROW_ID\"] = pd.Series(coupons_train.index.tolist())\n",
    "coupons_valid[\"ROW_ID\"] = pd.Series(coupons_valid.index.tolist())\n",
    "\n",
    "for i, user in user_frame.iterrows():\n",
    "    if i % 100 == 0:\n",
    "        print i\n",
    "    coupons = details_frame[details_frame.USER_ID_hash.isin([user[\"USER_ID_hash\"]])]\n",
    "    train_coupon_data = pd.merge(coupons[[\"COUPON_ID_hash\",\"ITEM_COUNT\",\"I_DATE\"]],\n",
    "                                         coupons_train,\n",
    "                                         on=\"COUPON_ID_hash\", how='inner',\n",
    "                                         suffixes=[\"_x\",\"\"], copy=False)\n",
    "    train_coupon_data = train_coupon_data.sort(columns=[\"I_DATE\"])\n",
    "    row_ids = train_coupon_data.ROW_ID.unique().tolist()\n",
    "    \n",
    "    coupons_visited = coupons_visit[coupons_visit.USER_ID_hash.isin([user[\"USER_ID_hash\"]])]\n",
    "    train_coupon_visited_data = pd.merge(coupons_visited[[\"COUPON_ID_hash\",\"PURCHASE_FLG\"]],\n",
    "                                         coupons_train,\n",
    "                                         on=\"COUPON_ID_hash\", how='inner',\n",
    "                                         suffixes=[\"_x\",\"\"], copy=False)\n",
    "    #train_coupon_visited_data = train_coupon_visited_data.sort(columns=[\"I_DATE\"])\n",
    "    tmp = train_coupon_visited_data[train_coupon_visited_data.PURCHASE_FLG>0].ROW_ID.unique()\n",
    "    visited_row_ids = [i for i in train_coupon_visited_data.ROW_ID.unique() if i not in tmp]\n",
    "    \n",
    "\n",
    "    valid_coupon_data = pd.merge(coupons[[\"COUPON_ID_hash\",\"ITEM_COUNT\",\"I_DATE\"]],\n",
    "                                         coupons_valid, on=\"COUPON_ID_hash\",\n",
    "                                         how='inner', suffixes=[\"_x\",\"\"], copy=False)\n",
    "    valid_coupon_data = valid_coupon_data.sort(columns=[\"I_DATE\"])\n",
    "    valid_row_ids = valid_coupon_data.ROW_ID.unique().tolist()\n",
    "\n",
    "    users.append({\"user\": user_vec[i],\n",
    "                    \"coupon_ids\": row_ids,\n",
    "                    \"valid_coupon_ids\": valid_row_ids,\n",
    "                    \"visited_row_ids\": visited_row_ids})"
   ]
  },
  {
   "cell_type": "code",
   "execution_count": 16,
   "metadata": {
    "collapsed": false
   },
   "outputs": [],
   "source": [
    "import cPickle"
   ]
  },
  {
   "cell_type": "code",
   "execution_count": 17,
   "metadata": {
    "collapsed": true
   },
   "outputs": [],
   "source": [
    "## Used to load user so that don't have to generate again\n",
    "f = open('user.obj','rb')\n",
    "users = cPickle.load(f)\n",
    "f.close()"
   ]
  },
  {
   "cell_type": "markdown",
   "metadata": {},
   "source": [
    "For Bucketizing the age.\n",
    "Does not work. \n",
    "\n",
    "Dont run the next 2 blocks"
   ]
  },
  {
   "cell_type": "code",
   "execution_count": null,
   "metadata": {
    "collapsed": true
   },
   "outputs": [],
   "source": [
    "NUM_BUCKET = 8\n",
    "def bucket(age):\n",
    "    r = np.zeros(NUM_BUCKET)\n",
    "    r[age/10-1] = 1\n",
    "    return r"
   ]
  },
  {
   "cell_type": "code",
   "execution_count": null,
   "metadata": {
    "collapsed": false
   },
   "outputs": [],
   "source": [
    "for i in xrange(len(users)):\n",
    "    users[i]['user'] = np.append(users[i]['user'][:-1],bucket(users[i]['user'][-1]))"
   ]
  },
  {
   "cell_type": "code",
   "execution_count": null,
   "metadata": {
    "collapsed": true
   },
   "outputs": [],
   "source": [
    "## Storing user array for further use\n",
    "f = open('user.obj', 'wb')\n",
    "cPickle.dump(users, f, protocol=cPickle.HIGHEST_PROTOCOL)\n",
    "f.close()"
   ]
  },
  {
   "cell_type": "code",
   "execution_count": 18,
   "metadata": {
    "collapsed": true
   },
   "outputs": [],
   "source": [
    "def maxmin_columns(coupons_train,coupon_ids):\n",
    "    return coupons_train.ix[\n",
    "        coupon_ids, (\"CATALOG_PRICE\",\"DISCOUNT_PRICE\")\n",
    "        ].as_matrix().astype(np.float32)"
   ]
  },
  {
   "cell_type": "markdown",
   "metadata": {},
   "source": [
    "Added mean of unpurchased coupon\n",
    "\n",
    "Number of unpurchased coupons\n",
    "\n",
    "Ratio of purchased to unpurchased"
   ]
  },
  {
   "cell_type": "code",
   "execution_count": 19,
   "metadata": {
    "collapsed": true
   },
   "outputs": [],
   "source": [
    "def purchase_history_features(train_coupon_vec, user_coupon_vec, user_coupon_not_purchased_vec, maxmin_columns, \n",
    "                              filter_idx=None, n_filter_idx=None):\n",
    "        sum_vec = np.zeros(2, dtype=np.float32)\n",
    "        maxmin_vec = np.zeros((4), dtype=np.float32)\n",
    "        mean_coupon_vec = np.zeros(len(train_coupon_vec[0]), dtype=np.float32)\n",
    "        mean_coupon_not_purchased_vec = np.zeros(len(train_coupon_vec[0]), dtype=np.float32)\n",
    "        \n",
    "        lennp = 0\n",
    "        \n",
    "        if filter_idx is not None:\n",
    "            if len(user_coupon_not_purchased_vec[n_filter_idx]) > 0:\n",
    "                lennp = len(user_coupon_not_purchased_vec[n_filter_idx])\n",
    "                mean_coupon_not_purchased_vec[:] = user_coupon_not_purchased_vec[n_filter_idx].mean(0)\n",
    "            if len(user_coupon_vec[filter_idx]) > 0:\n",
    "                mean_coupon_vec[:] = user_coupon_vec[filter_idx].mean(0)\n",
    "                sum_vec[0] = filter_idx.sum()\n",
    "                sum_vec[1] = np.log(sum_vec[0] + 1.0)\n",
    "                max_val = maxmin_columns[filter_idx].max(0)\n",
    "                min_val = maxmin_columns[filter_idx].min(0)\n",
    "                maxmin_vec[0] = max_val[0]\n",
    "                maxmin_vec[1] = min_val[0]\n",
    "                maxmin_vec[2] = max_val[1]\n",
    "                maxmin_vec[3] = min_val[1]\n",
    "        else:\n",
    "            if len(user_coupon_not_purchased_vec) > 0:\n",
    "                lennp = len(user_coupon_not_purchased_vec)\n",
    "                mean_coupon_not_purchased_vec[:] = user_coupon_not_purchased_vec.mean(0)\n",
    "            if len(user_coupon_vec) > 0:\n",
    "                mean_coupon_vec = user_coupon_vec.mean(0)\n",
    "                sum_vec[0] = len(user_coupon_vec)\n",
    "                sum_vec[1] = np.log(sum_vec[0] + 1.0)\n",
    "                max_val = maxmin_columns.max(0)\n",
    "                min_val = maxmin_columns.min(0)\n",
    "                maxmin_vec[0] = max_val[0]\n",
    "                maxmin_vec[1] = min_val[0]\n",
    "                maxmin_vec[2] = max_val[1]\n",
    "                maxmin_vec[3] = min_val[1]\n",
    "                \n",
    "        ratio = 0\n",
    "        if lennp != 0:\n",
    "            ratio = sum_vec[0]*1.0/lennp\n",
    "        return np.hstack((mean_coupon_vec, mean_coupon_not_purchased_vec, sum_vec, maxmin_vec, \n",
    "                          lennp, ratio))"
   ]
  },
  {
   "cell_type": "code",
   "execution_count": 20,
   "metadata": {
    "collapsed": true
   },
   "outputs": [],
   "source": [
    "COUPON_DISP_NEAR = 400\n",
    "COUPON_DISP_NEAR_MIN = 10"
   ]
  },
  {
   "cell_type": "code",
   "execution_count": 21,
   "metadata": {
    "collapsed": false
   },
   "outputs": [],
   "source": [
    "def gen_train_data(num_nega=2, verbose=True):\n",
    "        x = []\n",
    "        y = []\n",
    "        for user in users:\n",
    "            coupon_ids = np.array(user[\"coupon_ids\"], dtype=np.int32)\n",
    "            user_coupons = train_coupon_vec[coupon_ids]\n",
    "            coupon_ids_np = np.array(user[\"visited_row_ids\"], dtype=np.int32)\n",
    "            user_coupon_np = train_coupon_vec[coupon_ids_np]\n",
    "            maxmin_c = maxmin_columns(coupons_train,coupon_ids)\n",
    "            for i in xrange(len(user_coupons)):\n",
    "                target_coupon_vec = user_coupons[i]\n",
    "                rid = coupon_ids[i]\n",
    "                nega_list = range(max(0, rid - COUPON_DISP_NEAR), rid)\n",
    "                if len(nega_list) < COUPON_DISP_NEAR_MIN:\n",
    "                    continue\n",
    "\n",
    "                filter_idx = np.ones(user_coupons.shape[0], dtype=np.bool)\n",
    "                \n",
    "                # exclude coupons that was purchased after the target coupon\n",
    "                filter_idx[i:] = False\n",
    "                # exclude the target coupon (and remove duplicate)\n",
    "                filter_idx[coupon_ids == coupon_ids[i]] = False\n",
    "                \n",
    "                filter_idx_np = np.ones(user_coupon_np.shape[0], dtype=np.bool)\n",
    "                for ix in range(len(filter_idx_np)):\n",
    "                    if user_coupon_np[ix] in user_coupons:\n",
    "                        filter_idx_np[ix] = False\n",
    "                \n",
    "                index = np.where(coupon_ids_np == coupon_ids[i])[0]\n",
    "                if len(index) > 0:\n",
    "                    filter_idx_np[index[0]:] = False\n",
    "                #filter_idx_np[coupon_ids_np in coupon_ids] = False\n",
    "                \n",
    "                hist_feat = purchase_history_features(train_coupon_vec,user_coupons, user_coupon_np,\n",
    "                                                             maxmin_c,\n",
    "                                                             filter_idx, filter_idx_np)\n",
    "                \n",
    "                # dot product(both elementwise and overall) for similarity \n",
    "                # between mean purchased coupons and current coupon\n",
    "                \n",
    "                sim_coupon_vec = hist_feat[:150]*target_coupon_vec\n",
    "                sim_score = np.dot(hist_feat[:150], target_coupon_vec)\n",
    "                #sim_coupon_np_vec = hist_feat[150:300]*target_coupon_vec\n",
    "                \n",
    "                # feature vector (user_feature + purchase_history_feature + coupon_feature)\n",
    "                purchased_feat = np.hstack((user[\"user\"], hist_feat, target_coupon_vec, \n",
    "                                            sim_coupon_vec, sim_score))#, sim_coupon_np_vec))\n",
    "                x.append(purchased_feat)\n",
    "                y.append([1]) # posi\n",
    "\n",
    "                # select random unpurchased coupons\n",
    "                for j in xrange(num_nega):\n",
    "                    found = False\n",
    "                    for _ in xrange(10):\n",
    "                        unpurchased_idx = np.random.choice(nega_list, 1)[0]\n",
    "                        if unpurchased_idx not in user[\"coupon_ids\"]:\n",
    "                            found = True\n",
    "                            break\n",
    "                    if found:\n",
    "                        \n",
    "                        sim_coupon_vec = hist_feat[:150]*train_coupon_vec[unpurchased_idx]\n",
    "                        sim_score = np.dot(hist_feat[:150], train_coupon_vec[unpurchased_idx])\n",
    "                        #sim_coupon_np_vec = hist_feat[150:300]*train_coupon_vec[unpurchased_idx]\n",
    "                        \n",
    "                        unpurchased_feat = np.hstack((user[\"user\"],\n",
    "                                                      hist_feat,\n",
    "                                                      train_coupon_vec[unpurchased_idx], \n",
    "                                                      sim_coupon_vec, sim_score))#, sim_coupon_np_vec))\n",
    "                        x.append(unpurchased_feat)\n",
    "                        y.append([0]) # nega\n",
    "\n",
    "        x = np.array(x, dtype=np.float32)\n",
    "        y = np.array(y, dtype=np.int32)\n",
    "\n",
    "        return x, y"
   ]
  },
  {
   "cell_type": "code",
   "execution_count": 22,
   "metadata": {
    "collapsed": false
   },
   "outputs": [],
   "source": [
    "def gen_valid_data(num_nega=5, verbose=True):\n",
    "        x = []\n",
    "        y = []\n",
    "        for user in users:\n",
    "            coupon_ids = np.array(user[\"coupon_ids\"], dtype=np.int32)\n",
    "            user_coupons = train_coupon_vec[coupon_ids]\n",
    "            coupon_ids_np = np.array(user[\"visited_row_ids\"], dtype=np.int32)\n",
    "            user_coupon_np = train_coupon_vec[np.setdiff1d(coupon_ids_np,coupon_ids)]\n",
    "            valid_coupon_ids=np.array(user[\"valid_coupon_ids\"], dtype=np.int32)\n",
    "            valid_user_coupons=valid_coupon_vec[valid_coupon_ids]\n",
    "            maxmin_c = maxmin_columns(coupons_train,coupon_ids)\n",
    "            hist_feat = purchase_history_features(train_coupon_vec, user_coupons, user_coupon_np, maxmin_c)\n",
    "            \n",
    "            for i in xrange(len(valid_user_coupons)):\n",
    "                target_coupon_vec = valid_user_coupons[i]\n",
    "                #rid = coupon_ids[i]\n",
    "                sim_coupon_vec = hist_feat[:150]*target_coupon_vec\n",
    "                #sim_coupon_np_vec = hist_feat[150:300]*target_coupon_vec\n",
    "                sim_score = np.dot(hist_feat[:150], target_coupon_vec)\n",
    "                \n",
    "                # feature vector (user_feature + purchase_history_feature + coupon_feature)\n",
    "                purchased_feat = np.hstack((user[\"user\"], hist_feat, target_coupon_vec, \n",
    "                                            sim_coupon_vec, sim_score))#, sim_coupon_np_vec))\n",
    "                x.append(purchased_feat)\n",
    "                y.append(1) # posi\n",
    "\n",
    "                # select random unpurchased coupons\n",
    "                for j in xrange(num_nega):\n",
    "                    found = False\n",
    "                    for _ in xrange(10):\n",
    "                        unpurchased_idx = np.random.choice(range(len(valid_coupon_vec)), 1)[0]\n",
    "                        if unpurchased_idx not in user[\"valid_coupon_ids\"]:\n",
    "                            found = True\n",
    "                            break\n",
    "                    if found:\n",
    "                        sim_coupon_vec = hist_feat[:150]*valid_coupon_vec[unpurchased_idx]\n",
    "                        sim_score = np.dot(hist_feat[:150], valid_coupon_vec[unpurchased_idx])\n",
    "                        #sim_coupon_np_vec = hist_feat[150:300]*valid_coupon_vec[unpurchased_idx]\n",
    "                        unpurchased_feat = np.hstack((user[\"user\"],\n",
    "                                                      hist_feat,\n",
    "                                                      valid_coupon_vec[unpurchased_idx], \n",
    "                                                      sim_coupon_vec, sim_score))#, sim_coupon_np_vec))\n",
    "                        x.append(unpurchased_feat)\n",
    "                        y.append(0) # nega\n",
    "\n",
    "        x = np.array(x, dtype=np.float32)\n",
    "        y = np.array(y, dtype=np.int32)\n",
    "\n",
    "        return x, y"
   ]
  },
  {
   "cell_type": "code",
   "execution_count": null,
   "metadata": {
    "collapsed": false
   },
   "outputs": [],
   "source": [
    "train_feature,train_label=gen_train_data()"
   ]
  },
  {
   "cell_type": "code",
   "execution_count": null,
   "metadata": {
    "collapsed": false
   },
   "outputs": [],
   "source": [
    "valid_feature,valid_label=gen_valid_data()"
   ]
  },
  {
   "cell_type": "code",
   "execution_count": 23,
   "metadata": {
    "collapsed": true
   },
   "outputs": [],
   "source": [
    "f = open('train_feat.obj', 'rb')\n",
    "train_feature = cPickle.load(f)\n",
    "f.close()\n",
    "f = open('train_label.obj', 'rb')\n",
    "train_label = cPickle.load(f)\n",
    "f.close()"
   ]
  },
  {
   "cell_type": "code",
   "execution_count": null,
   "metadata": {
    "collapsed": false
   },
   "outputs": [],
   "source": []
  },
  {
   "cell_type": "code",
   "execution_count": 24,
   "metadata": {
    "collapsed": true
   },
   "outputs": [],
   "source": [
    "f = open('valid_feat.obj', 'rb')\n",
    "valid_feature = cPickle.load(f)\n",
    "f.close()\n",
    "f = open('valid_label.obj', 'rb')\n",
    "valid_label = cPickle.load(f)\n",
    "f.close()"
   ]
  },
  {
   "cell_type": "code",
   "execution_count": null,
   "metadata": {
    "collapsed": true
   },
   "outputs": [],
   "source": [
    "f = open('train_feat.obj', 'wb')\n",
    "cPickle.dump(train_feature, f, protocol=cPickle.HIGHEST_PROTOCOL)\n",
    "f.close()\n",
    "f = open('train_label.obj', 'wb')\n",
    "cPickle.dump(train_label, f, protocol=cPickle.HIGHEST_PROTOCOL)\n",
    "f.close()"
   ]
  },
  {
   "cell_type": "code",
   "execution_count": null,
   "metadata": {
    "collapsed": true
   },
   "outputs": [],
   "source": [
    "f = open('valid_feat.obj', 'wb')\n",
    "cPickle.dump(valid_feature, f, protocol=cPickle.HIGHEST_PROTOCOL)\n",
    "f.close()\n",
    "f = open('valid_label.obj', 'wb')\n",
    "cPickle.dump(valid_label, f, protocol=cPickle.HIGHEST_PROTOCOL)\n",
    "f.close()"
   ]
  },
  {
   "cell_type": "code",
   "execution_count": 30,
   "metadata": {
    "collapsed": false,
    "scrolled": true
   },
   "outputs": [
    {
     "name": "stderr",
     "output_type": "stream",
     "text": [
      "[0]\teval-error:0.198218\ttrain-error:0.195327\n",
      "[1]\teval-error:0.187433\ttrain-error:0.182058\n",
      "[2]\teval-error:0.184084\ttrain-error:0.180616\n",
      "[3]\teval-error:0.177787\ttrain-error:0.175889\n",
      "[4]\teval-error:0.176983\ttrain-error:0.175303\n",
      "[5]\teval-error:0.177184\ttrain-error:0.172462\n",
      "[6]\teval-error:0.172160\ttrain-error:0.171938\n",
      "[7]\teval-error:0.170887\ttrain-error:0.170212\n",
      "[8]\teval-error:0.172026\ttrain-error:0.168909\n",
      "[9]\teval-error:0.170351\ttrain-error:0.169204\n",
      "[10]\teval-error:0.170150\ttrain-error:0.168605\n",
      "[11]\teval-error:0.169212\ttrain-error:0.167436\n",
      "[12]\teval-error:0.168743\ttrain-error:0.166907\n",
      "[13]\teval-error:0.168475\ttrain-error:0.166095\n",
      "[14]\teval-error:0.169480\ttrain-error:0.165048\n",
      "[15]\teval-error:0.169346\ttrain-error:0.164659\n",
      "[16]\teval-error:0.168877\ttrain-error:0.164193\n",
      "[17]\teval-error:0.169748\ttrain-error:0.162935\n",
      "[18]\teval-error:0.168810\ttrain-error:0.161992\n",
      "[19]\teval-error:0.170418\ttrain-error:0.161002\n",
      "[20]\teval-error:0.171155\ttrain-error:0.160261\n",
      "[21]\teval-error:0.169480\ttrain-error:0.159489\n",
      "[22]\teval-error:0.169815\ttrain-error:0.158568\n",
      "[23]\teval-error:0.171490\ttrain-error:0.158019\n",
      "[24]\teval-error:0.171021\ttrain-error:0.157547\n",
      "[25]\teval-error:0.170485\ttrain-error:0.157278\n",
      "[26]\teval-error:0.170083\ttrain-error:0.156754\n",
      "[27]\teval-error:0.169815\ttrain-error:0.155607\n",
      "[28]\teval-error:0.169279\ttrain-error:0.154828\n",
      "[29]\teval-error:0.170217\ttrain-error:0.154007\n",
      "[30]\teval-error:0.169882\ttrain-error:0.153481\n",
      "[31]\teval-error:0.170686\ttrain-error:0.152928\n",
      "[32]\teval-error:0.171959\ttrain-error:0.152376\n",
      "[33]\teval-error:0.171356\ttrain-error:0.151810\n",
      "[34]\teval-error:0.171490\ttrain-error:0.151166\n",
      "[35]\teval-error:0.171021\ttrain-error:0.150580\n",
      "[36]\teval-error:0.172026\ttrain-error:0.149833\n",
      "[37]\teval-error:0.172227\ttrain-error:0.149238\n",
      "[38]\teval-error:0.172428\ttrain-error:0.148585\n",
      "[39]\teval-error:0.172361\ttrain-error:0.147977\n",
      "[40]\teval-error:0.173031\ttrain-error:0.147354\n",
      "[41]\teval-error:0.172763\ttrain-error:0.146914\n",
      "[42]\teval-error:0.173633\ttrain-error:0.146499\n",
      "[43]\teval-error:0.173767\ttrain-error:0.146084\n",
      "[44]\teval-error:0.172964\ttrain-error:0.145532\n",
      "[45]\teval-error:0.173031\ttrain-error:0.145055\n",
      "[46]\teval-error:0.172562\ttrain-error:0.144464\n",
      "[47]\teval-error:0.172830\ttrain-error:0.143885\n",
      "[48]\teval-error:0.173165\ttrain-error:0.143366\n",
      "[49]\teval-error:0.172964\ttrain-error:0.142389\n",
      "[50]\teval-error:0.172629\ttrain-error:0.142387\n",
      "[51]\teval-error:0.172026\ttrain-error:0.141894\n",
      "[52]\teval-error:0.172428\ttrain-error:0.141291\n",
      "[53]\teval-error:0.172696\ttrain-error:0.141002\n",
      "[54]\teval-error:0.172428\ttrain-error:0.140596\n",
      "[55]\teval-error:0.172227\ttrain-error:0.140310\n",
      "[56]\teval-error:0.172763\ttrain-error:0.139866\n",
      "[57]\teval-error:0.172696\ttrain-error:0.139478\n",
      "[58]\teval-error:0.173098\ttrain-error:0.138934\n",
      "[59]\teval-error:0.173031\ttrain-error:0.138750\n",
      "[60]\teval-error:0.172964\ttrain-error:0.138328\n",
      "[61]\teval-error:0.173298\ttrain-error:0.137753\n",
      "[62]\teval-error:0.173767\ttrain-error:0.137378\n",
      "[63]\teval-error:0.173098\ttrain-error:0.136777\n",
      "[64]\teval-error:0.173098\ttrain-error:0.136357\n",
      "[65]\teval-error:0.174102\ttrain-error:0.135814\n",
      "[66]\teval-error:0.173834\ttrain-error:0.135166\n",
      "[67]\teval-error:0.173566\ttrain-error:0.135090\n",
      "[68]\teval-error:0.172897\ttrain-error:0.134771\n",
      "[69]\teval-error:0.173165\ttrain-error:0.134513\n",
      "[70]\teval-error:0.173165\ttrain-error:0.134149\n",
      "[71]\teval-error:0.173232\ttrain-error:0.134094\n",
      "[72]\teval-error:0.173432\ttrain-error:0.133730\n",
      "[73]\teval-error:0.173365\ttrain-error:0.133510\n",
      "[74]\teval-error:0.173432\ttrain-error:0.133372\n",
      "[75]\teval-error:0.173633\ttrain-error:0.133055\n",
      "[76]\teval-error:0.173031\ttrain-error:0.132651\n",
      "[77]\teval-error:0.172830\ttrain-error:0.132254\n",
      "[78]\teval-error:0.172964\ttrain-error:0.131912\n",
      "[79]\teval-error:0.173031\ttrain-error:0.131590\n",
      "[80]\teval-error:0.173566\ttrain-error:0.131302\n",
      "[81]\teval-error:0.173767\ttrain-error:0.131140\n",
      "[82]\teval-error:0.173901\ttrain-error:0.131027\n",
      "[83]\teval-error:0.174035\ttrain-error:0.130725\n",
      "[84]\teval-error:0.173566\ttrain-error:0.130463\n",
      "[85]\teval-error:0.173700\ttrain-error:0.130079\n",
      "[86]\teval-error:0.174102\ttrain-error:0.129870\n",
      "[87]\teval-error:0.173767\ttrain-error:0.129737\n",
      "[88]\teval-error:0.173834\ttrain-error:0.129529\n",
      "[89]\teval-error:0.173834\ttrain-error:0.129293\n",
      "[90]\teval-error:0.174169\ttrain-error:0.128994\n",
      "[91]\teval-error:0.174370\ttrain-error:0.128661\n",
      "[92]\teval-error:0.174303\ttrain-error:0.128370\n",
      "[93]\teval-error:0.174102\ttrain-error:0.128082\n",
      "[94]\teval-error:0.173901\ttrain-error:0.127764\n",
      "[95]\teval-error:0.174035\ttrain-error:0.127589\n",
      "[96]\teval-error:0.173968\ttrain-error:0.127440\n",
      "[97]\teval-error:0.174370\ttrain-error:0.127130\n",
      "[98]\teval-error:0.174303\ttrain-error:0.126823\n",
      "[99]\teval-error:0.174571\ttrain-error:0.126719\n",
      "[100]\teval-error:0.174638\ttrain-error:0.126240\n",
      "[101]\teval-error:0.174437\ttrain-error:0.126060\n",
      "[102]\teval-error:0.174169\ttrain-error:0.125800\n",
      "[103]\teval-error:0.174236\ttrain-error:0.125601\n",
      "[104]\teval-error:0.174437\ttrain-error:0.125514\n",
      "[105]\teval-error:0.174705\ttrain-error:0.125403\n",
      "[106]\teval-error:0.174437\ttrain-error:0.125383\n",
      "[107]\teval-error:0.174236\ttrain-error:0.125250\n",
      "[108]\teval-error:0.174504\ttrain-error:0.125141\n",
      "[109]\teval-error:0.174504\ttrain-error:0.124859\n",
      "[110]\teval-error:0.174236\ttrain-error:0.124660\n",
      "[111]\teval-error:0.174705\ttrain-error:0.124484\n",
      "[112]\teval-error:0.174370\ttrain-error:0.124367\n",
      "[113]\teval-error:0.174169\ttrain-error:0.124163\n",
      "[114]\teval-error:0.173968\ttrain-error:0.123996\n",
      "[115]\teval-error:0.173767\ttrain-error:0.123876\n",
      "[116]\teval-error:0.173901\ttrain-error:0.123774\n",
      "[117]\teval-error:0.173834\ttrain-error:0.123526\n",
      "[118]\teval-error:0.174169\ttrain-error:0.123295\n",
      "[119]\teval-error:0.174169\ttrain-error:0.123193\n",
      "[120]\teval-error:0.173834\ttrain-error:0.123042\n",
      "[121]\teval-error:0.173901\ttrain-error:0.122822\n",
      "[122]\teval-error:0.173633\ttrain-error:0.122669\n",
      "[123]\teval-error:0.174303\ttrain-error:0.122352\n",
      "[124]\teval-error:0.174437\ttrain-error:0.122121\n",
      "[125]\teval-error:0.174504\ttrain-error:0.122012\n",
      "[126]\teval-error:0.174437\ttrain-error:0.121941\n",
      "[127]\teval-error:0.174303\ttrain-error:0.121815\n",
      "[128]\teval-error:0.174571\ttrain-error:0.121615\n",
      "[129]\teval-error:0.174772\ttrain-error:0.121175\n",
      "[130]\teval-error:0.174638\ttrain-error:0.120934\n",
      "[131]\teval-error:0.174906\ttrain-error:0.120683\n",
      "[132]\teval-error:0.174839\ttrain-error:0.120581\n",
      "[133]\teval-error:0.174906\ttrain-error:0.120492\n",
      "[134]\teval-error:0.174906\ttrain-error:0.120354\n",
      "[135]\teval-error:0.174906\ttrain-error:0.120181\n",
      "[136]\teval-error:0.174973\ttrain-error:0.120001\n",
      "[137]\teval-error:0.175174\ttrain-error:0.119700\n",
      "[138]\teval-error:0.175174\ttrain-error:0.119544\n",
      "[139]\teval-error:0.175174\ttrain-error:0.119411\n",
      "[140]\teval-error:0.174973\ttrain-error:0.119227\n",
      "[141]\teval-error:0.174906\ttrain-error:0.119034\n",
      "[142]\teval-error:0.174839\ttrain-error:0.118981\n",
      "[143]\teval-error:0.174370\ttrain-error:0.118730\n",
      "[144]\teval-error:0.174437\ttrain-error:0.118621\n",
      "[145]\teval-error:0.175442\ttrain-error:0.118310\n",
      "[146]\teval-error:0.175442\ttrain-error:0.118204\n",
      "[147]\teval-error:0.175308\ttrain-error:0.118168\n",
      "[148]\teval-error:0.175643\ttrain-error:0.117904\n",
      "[149]\teval-error:0.175643\ttrain-error:0.117784\n",
      "[150]\teval-error:0.175710\ttrain-error:0.117667\n",
      "[151]\teval-error:0.175509\ttrain-error:0.117567\n",
      "[152]\teval-error:0.175643\ttrain-error:0.117427\n",
      "[153]\teval-error:0.175777\ttrain-error:0.117325\n",
      "[154]\teval-error:0.175911\ttrain-error:0.117232\n",
      "[155]\teval-error:0.175978\ttrain-error:0.117159\n",
      "[156]\teval-error:0.175844\ttrain-error:0.116930\n",
      "[157]\teval-error:0.175576\ttrain-error:0.116706\n",
      "[158]\teval-error:0.175777\ttrain-error:0.116577\n",
      "[159]\teval-error:0.175375\ttrain-error:0.116362\n",
      "[160]\teval-error:0.174973\ttrain-error:0.116269\n",
      "[161]\teval-error:0.175040\ttrain-error:0.116198\n",
      "[162]\teval-error:0.174839\ttrain-error:0.116100\n",
      "[163]\teval-error:0.174504\ttrain-error:0.115918\n",
      "[164]\teval-error:0.174504\ttrain-error:0.115774\n",
      "[165]\teval-error:0.174772\ttrain-error:0.115687\n",
      "[166]\teval-error:0.175643\ttrain-error:0.115474\n",
      "[167]\teval-error:0.175911\ttrain-error:0.115345\n",
      "[168]\teval-error:0.175911\ttrain-error:0.115230\n",
      "[169]\teval-error:0.176112\ttrain-error:0.115066\n",
      "[170]\teval-error:0.175710\ttrain-error:0.114890\n",
      "[171]\teval-error:0.175844\ttrain-error:0.114806\n",
      "[172]\teval-error:0.175710\ttrain-error:0.114706\n",
      "[173]\teval-error:0.175777\ttrain-error:0.114524\n",
      "[174]\teval-error:0.175978\ttrain-error:0.114462\n",
      "[175]\teval-error:0.176045\ttrain-error:0.114387\n",
      "[176]\teval-error:0.176313\ttrain-error:0.114063\n",
      "[177]\teval-error:0.176179\ttrain-error:0.113859\n",
      "[178]\teval-error:0.176045\ttrain-error:0.113830\n",
      "[179]\teval-error:0.176179\ttrain-error:0.113732\n",
      "[180]\teval-error:0.175911\ttrain-error:0.113639\n",
      "[181]\teval-error:0.175844\ttrain-error:0.113430\n",
      "[182]\teval-error:0.175844\ttrain-error:0.113239\n",
      "[183]\teval-error:0.176112\ttrain-error:0.112969\n",
      "[184]\teval-error:0.176179\ttrain-error:0.112833\n",
      "[185]\teval-error:0.176313\ttrain-error:0.112736\n",
      "[186]\teval-error:0.176246\ttrain-error:0.112531\n",
      "[187]\teval-error:0.176246\ttrain-error:0.112452\n",
      "[188]\teval-error:0.176380\ttrain-error:0.112378\n",
      "[189]\teval-error:0.176179\ttrain-error:0.112349\n",
      "[190]\teval-error:0.176045\ttrain-error:0.112234\n",
      "[191]\teval-error:0.175911\ttrain-error:0.112119\n",
      "[192]\teval-error:0.175710\ttrain-error:0.111923\n",
      "[193]\teval-error:0.175911\ttrain-error:0.111570\n",
      "[194]\teval-error:0.175844\ttrain-error:0.111442\n",
      "[195]\teval-error:0.175643\ttrain-error:0.111351\n",
      "[196]\teval-error:0.175576\ttrain-error:0.111311\n",
      "[197]\teval-error:0.175710\ttrain-error:0.111235\n",
      "[198]\teval-error:0.175643\ttrain-error:0.111175\n",
      "[199]\teval-error:0.175040\ttrain-error:0.110929\n",
      "[200]\teval-error:0.174906\ttrain-error:0.110838\n",
      "[201]\teval-error:0.174906\ttrain-error:0.110703\n",
      "[202]\teval-error:0.174906\ttrain-error:0.110576\n",
      "[203]\teval-error:0.174973\ttrain-error:0.110472\n",
      "[204]\teval-error:0.175308\ttrain-error:0.110394\n",
      "[205]\teval-error:0.175375\ttrain-error:0.110319\n",
      "[206]\teval-error:0.175241\ttrain-error:0.110168\n",
      "[207]\teval-error:0.175308\ttrain-error:0.110099\n",
      "[208]\teval-error:0.175509\ttrain-error:0.109888\n",
      "[209]\teval-error:0.175777\ttrain-error:0.109802\n",
      "[210]\teval-error:0.175710\ttrain-error:0.109729\n",
      "[211]\teval-error:0.175710\ttrain-error:0.109673\n",
      "[212]\teval-error:0.175576\ttrain-error:0.109544\n",
      "[213]\teval-error:0.175576\ttrain-error:0.109522\n",
      "[214]\teval-error:0.175710\ttrain-error:0.109409\n",
      "[215]\teval-error:0.175710\ttrain-error:0.109331\n",
      "[216]\teval-error:0.175978\ttrain-error:0.109132\n",
      "[217]\teval-error:0.176045\ttrain-error:0.108918\n",
      "[218]\teval-error:0.175911\ttrain-error:0.108839\n",
      "[219]\teval-error:0.175844\ttrain-error:0.108741\n",
      "[220]\teval-error:0.175375\ttrain-error:0.108692\n",
      "[221]\teval-error:0.175375\ttrain-error:0.108610\n",
      "[222]\teval-error:0.175375\ttrain-error:0.108575\n",
      "[223]\teval-error:0.175375\ttrain-error:0.108501\n",
      "[224]\teval-error:0.175576\ttrain-error:0.108417\n",
      "[225]\teval-error:0.175107\ttrain-error:0.108284\n",
      "[226]\teval-error:0.175308\ttrain-error:0.108224\n",
      "[227]\teval-error:0.175509\ttrain-error:0.108173\n",
      "[228]\teval-error:0.175509\ttrain-error:0.108104\n",
      "[229]\teval-error:0.175442\ttrain-error:0.108080\n",
      "[230]\teval-error:0.175375\ttrain-error:0.107971\n",
      "[231]\teval-error:0.175978\ttrain-error:0.107844\n",
      "[232]\teval-error:0.176246\ttrain-error:0.107718\n",
      "[233]\teval-error:0.175911\ttrain-error:0.107454\n",
      "[234]\teval-error:0.175710\ttrain-error:0.107108\n",
      "[235]\teval-error:0.175978\ttrain-error:0.107050\n",
      "[236]\teval-error:0.175777\ttrain-error:0.106946\n",
      "[237]\teval-error:0.176246\ttrain-error:0.106750\n",
      "[238]\teval-error:0.176246\ttrain-error:0.106571\n",
      "[239]\teval-error:0.175978\ttrain-error:0.106486\n",
      "[240]\teval-error:0.175978\ttrain-error:0.106442\n",
      "[241]\teval-error:0.176112\ttrain-error:0.106366\n",
      "[242]\teval-error:0.175911\ttrain-error:0.106289\n",
      "[243]\teval-error:0.175777\ttrain-error:0.106242\n",
      "[244]\teval-error:0.176179\ttrain-error:0.105809\n",
      "[245]\teval-error:0.176246\ttrain-error:0.105716\n",
      "[246]\teval-error:0.176313\ttrain-error:0.105618\n",
      "[247]\teval-error:0.176179\ttrain-error:0.105570\n",
      "[248]\teval-error:0.176246\ttrain-error:0.105459\n",
      "[249]\teval-error:0.176246\ttrain-error:0.105212\n",
      "[250]\teval-error:0.175978\ttrain-error:0.104959\n",
      "[251]\teval-error:0.176313\ttrain-error:0.104828\n",
      "[252]\teval-error:0.176313\ttrain-error:0.104726\n",
      "[253]\teval-error:0.176916\ttrain-error:0.104531\n",
      "[254]\teval-error:0.176782\ttrain-error:0.104551\n",
      "[255]\teval-error:0.177117\ttrain-error:0.104507\n",
      "[256]\teval-error:0.176983\ttrain-error:0.104433\n",
      "[257]\teval-error:0.176983\ttrain-error:0.104267\n",
      "[258]\teval-error:0.177050\ttrain-error:0.104154\n",
      "[259]\teval-error:0.177117\ttrain-error:0.104092\n",
      "[260]\teval-error:0.177251\ttrain-error:0.104023\n",
      "[261]\teval-error:0.176246\ttrain-error:0.103743\n",
      "[262]\teval-error:0.176112\ttrain-error:0.103437\n",
      "[263]\teval-error:0.175978\ttrain-error:0.103348\n",
      "[264]\teval-error:0.176112\ttrain-error:0.103148\n",
      "[265]\teval-error:0.176313\ttrain-error:0.103095\n",
      "[266]\teval-error:0.176581\ttrain-error:0.102944\n",
      "[267]\teval-error:0.176648\ttrain-error:0.102798\n",
      "[268]\teval-error:0.176313\ttrain-error:0.102702\n",
      "[269]\teval-error:0.176179\ttrain-error:0.102565\n",
      "[270]\teval-error:0.176380\ttrain-error:0.102516\n",
      "[271]\teval-error:0.176447\ttrain-error:0.102496\n",
      "[272]\teval-error:0.176782\ttrain-error:0.102219\n",
      "[273]\teval-error:0.176648\ttrain-error:0.102145\n",
      "[274]\teval-error:0.176715\ttrain-error:0.102101\n",
      "[275]\teval-error:0.176715\ttrain-error:0.101912\n",
      "[276]\teval-error:0.176916\ttrain-error:0.101739\n",
      "[277]\teval-error:0.176983\ttrain-error:0.101708\n",
      "[278]\teval-error:0.176648\ttrain-error:0.101566\n",
      "[279]\teval-error:0.176782\ttrain-error:0.101526\n",
      "[280]\teval-error:0.176782\ttrain-error:0.101462\n",
      "[281]\teval-error:0.176849\ttrain-error:0.101400\n",
      "[282]\teval-error:0.176380\ttrain-error:0.101249\n",
      "[283]\teval-error:0.176380\ttrain-error:0.101133\n",
      "[284]\teval-error:0.176380\ttrain-error:0.101016\n",
      "[285]\teval-error:0.176045\ttrain-error:0.100931\n",
      "[286]\teval-error:0.175911\ttrain-error:0.100869\n",
      "[287]\teval-error:0.176045\ttrain-error:0.100778\n",
      "[288]\teval-error:0.176514\ttrain-error:0.100674\n",
      "[289]\teval-error:0.176447\ttrain-error:0.100616\n",
      "[290]\teval-error:0.176581\ttrain-error:0.100490\n",
      "[291]\teval-error:0.176514\ttrain-error:0.100408\n",
      "[292]\teval-error:0.176581\ttrain-error:0.100321\n",
      "[293]\teval-error:0.176447\ttrain-error:0.100230\n",
      "[294]\teval-error:0.176246\ttrain-error:0.099933\n",
      "[295]\teval-error:0.175911\ttrain-error:0.099822\n",
      "[296]\teval-error:0.175777\ttrain-error:0.099729\n",
      "[297]\teval-error:0.175777\ttrain-error:0.099680\n",
      "[298]\teval-error:0.175844\ttrain-error:0.099587\n",
      "[299]\teval-error:0.175643\ttrain-error:0.099407\n"
     ]
    }
   ],
   "source": [
    "dtrain = xgboost.DMatrix(train_feature, label = train_label)\n",
    "dvalid = xgboost.DMatrix(valid_feature, label = valid_label)\n",
    "param = {'max_depth':15, 'eta':0.05, 'objective':'binary:logistic', 'subsample':0.9, 'colsample_bytree':0.5, \n",
    "         'metric':'auc'}\n",
    "watchlist  = [(dvalid,'eval'), (dtrain,'train')]\n",
    "num_rounds=300\n",
    "bst = xgboost.train(param, dtrain, num_rounds, watchlist)"
   ]
  },
  {
   "cell_type": "code",
   "execution_count": null,
   "metadata": {
    "collapsed": true
   },
   "outputs": [],
   "source": []
  },
  {
   "cell_type": "code",
   "execution_count": 31,
   "metadata": {
    "collapsed": false
   },
   "outputs": [],
   "source": [
    "user_predictions={}\n",
    "def predict_for_test() :\n",
    "    test_user_coupons=test_coupon_vec\n",
    "    user_id=0\n",
    "    for user in users:\n",
    "        coupon_ids = np.array(user[\"coupon_ids\"], dtype=np.int32)\n",
    "        user_coupons = train_coupon_vec[coupon_ids]\n",
    "        \n",
    "        coupon_ids_np = np.array(user[\"visited_row_ids\"], dtype=np.int32)\n",
    "        user_coupon_np = train_coupon_vec[np.setdiff1d(coupon_ids_np,coupon_ids)]\n",
    "        \n",
    "        maxmin_c = maxmin_columns(coupons_train,coupon_ids)\n",
    "        hist_feat = purchase_history_features(train_coupon_vec, user_coupons, user_coupon_np, maxmin_c)\n",
    "        \n",
    "        sim_coupon_vec = hist_feat[:150]*test_coupon_vec\n",
    "        sim_score = np.dot(hist_feat[:150],test_coupon_vec.T).reshape((-1,1))\n",
    "        #sim_coupon_np_vec = hist_feat[150:300]*test_coupon_vec\n",
    "        \n",
    "        user_feat=np.hstack((user[\"user\"],hist_feat))\n",
    "        user_feat_rep=np.array([list(user_feat)]*len(test_coupon_vec))\n",
    "        \n",
    "        purchased_feats=np.hstack((user_feat_rep,test_coupon_vec,sim_coupon_vec, sim_score))\n",
    "        \n",
    "        dtest = xgboost.DMatrix(purchased_feats)\n",
    "        conf_predicted=bst.predict(dtest)\n",
    "        \n",
    "        conf_predicted=[(conf_predicted[i],i) for i in range(len(conf_predicted))]\n",
    "        conf_predicted.sort()\n",
    "        top10=[i for (c,i) in conf_predicted[-10:] if c > 0.6]\n",
    "        \n",
    "        user_predictions[user_frame['USER_ID_hash'][user_id]]=[coupons_test['COUPON_ID_hash'][i] for i in top10]\n",
    "        user_id+=1\n",
    "        \n",
    "        if user_id%1000==0:\n",
    "            print user_id"
   ]
  },
  {
   "cell_type": "code",
   "execution_count": 32,
   "metadata": {
    "collapsed": false
   },
   "outputs": [
    {
     "name": "stdout",
     "output_type": "stream",
     "text": [
      "1000\n",
      "2000\n",
      "3000\n",
      "4000\n",
      "5000\n",
      "6000\n",
      "7000\n",
      "8000\n",
      "9000\n",
      "10000\n",
      "11000\n",
      "12000\n",
      "13000\n",
      "14000\n",
      "15000\n",
      "16000\n",
      "17000\n",
      "18000\n",
      "19000\n",
      "20000\n",
      "21000\n",
      "22000\n"
     ]
    }
   ],
   "source": [
    "predict_for_test()"
   ]
  },
  {
   "cell_type": "code",
   "execution_count": null,
   "metadata": {
    "collapsed": true
   },
   "outputs": [],
   "source": []
  },
  {
   "cell_type": "code",
   "execution_count": 33,
   "metadata": {
    "collapsed": false,
    "scrolled": false
   },
   "outputs": [
    {
     "name": "stdout",
     "output_type": "stream",
     "text": [
      "3\n",
      "10\n",
      "10\n",
      "5\n",
      "10\n"
     ]
    }
   ],
   "source": [
    "print len(user_predictions[user_predictions.keys()[0]])\n",
    "print len(user_predictions[user_predictions.keys()[1]])\n",
    "print len(user_predictions[user_predictions.keys()[2]])\n",
    "print len(user_predictions[user_predictions.keys()[3]])\n",
    "print len(user_predictions[user_predictions.keys()[4]])"
   ]
  },
  {
   "cell_type": "code",
   "execution_count": 34,
   "metadata": {
    "collapsed": true
   },
   "outputs": [],
   "source": [
    "with open('output.csv', 'w') as f:\n",
    "    f.write('USER_ID_hash,PURCHASED_COUPONS\\n')\n",
    "    for user in user_predictions.keys():\n",
    "        f.write(user+','+' '.join(user_predictions[user])+'\\n')"
   ]
  },
  {
   "cell_type": "code",
   "execution_count": null,
   "metadata": {
    "collapsed": false
   },
   "outputs": [],
   "source": [
    "for user in user_predictions.keys():\n",
    "    base=user_predictions[user]\n",
    "    break\n",
    "for user in user_predictions.keys():\n",
    "    if user_predictions[user]!=base:\n",
    "        print \"Mismatch\""
   ]
  },
  {
   "cell_type": "code",
   "execution_count": null,
   "metadata": {
    "collapsed": false,
    "scrolled": false
   },
   "outputs": [],
   "source": [
    "uf=user_frame.copy()\n",
    "uf.sort(columns=['USER_ID_hash'])\n",
    "uf['USER_ID_hash'].sort()\n",
    "#uf=user_frame['USER_ID_hash']\n",
    "#uf.sort(user_frame.copy())"
   ]
  }
 ],
 "metadata": {
  "kernelspec": {
   "display_name": "Python 2",
   "language": "python",
   "name": "python2"
  },
  "language_info": {
   "codemirror_mode": {
    "name": "ipython",
    "version": 2
   },
   "file_extension": ".py",
   "mimetype": "text/x-python",
   "name": "python",
   "nbconvert_exporter": "python",
   "pygments_lexer": "ipython2",
   "version": "2.7.11"
  }
 },
 "nbformat": 4,
 "nbformat_minor": 0
}
